{
  "nbformat": 4,
  "nbformat_minor": 0,
  "metadata": {
    "colab": {
      "provenance": [],
      "authorship_tag": "ABX9TyMusLHWo+lKnPNiFn1c32hd",
      "include_colab_link": true
    },
    "kernelspec": {
      "name": "python3",
      "display_name": "Python 3"
    },
    "language_info": {
      "name": "python"
    },
    "gpuClass": "standard",
    "accelerator": "GPU"
  },
  "cells": [
    {
      "cell_type": "markdown",
      "metadata": {
        "id": "view-in-github",
        "colab_type": "text"
      },
      "source": [
        "<a href=\"https://colab.research.google.com/github/gilad-altshuler/ECG-classification/blob/main/ECG_classification.ipynb\" target=\"_parent\"><img src=\"https://colab.research.google.com/assets/colab-badge.svg\" alt=\"Open In Colab\"/></a>"
      ]
    },
    {
      "cell_type": "markdown",
      "source": [
        "##imports"
      ],
      "metadata": {
        "id": "892W-OLY8e6j"
      }
    },
    {
      "cell_type": "code",
      "execution_count": 1,
      "metadata": {
        "id": "rgjs88mH7c_H"
      },
      "outputs": [],
      "source": [
        "import pandas as pd\n",
        "import numpy as np\n",
        "import matplotlib.pyplot as plt\n",
        "from sklearn.model_selection import StratifiedKFold\n",
        "from sklearn.utils import class_weight\n",
        "from sklearn.metrics import classification_report\n",
        "from sklearn.model_selection import train_test_split\n",
        "import torch\n",
        "import torch.nn as nn\n",
        "from torch.utils.data import TensorDataset, DataLoader\n",
        "import torchvision"
      ]
    },
    {
      "cell_type": "code",
      "source": [
        "from google.colab import drive\n",
        "drive.mount('/content/drive', force_remount=True)\n",
        "!cp -r /content/drive/MyDrive/Deep_Learning/* . #line 1"
      ],
      "metadata": {
        "id": "zjZk2mXK8eMG",
        "colab": {
          "base_uri": "https://localhost:8080/"
        },
        "outputId": "8fb1ac71-c650-4f91-9449-26891e3dc9e9"
      },
      "execution_count": 2,
      "outputs": [
        {
          "output_type": "stream",
          "name": "stdout",
          "text": [
            "Mounted at /content/drive\n"
          ]
        }
      ]
    },
    {
      "cell_type": "markdown",
      "source": [
        "##data preparation"
      ],
      "metadata": {
        "id": "UrAKP5rk8ibK"
      }
    },
    {
      "cell_type": "code",
      "source": [
        "def create_pd(train_path,test_path):\n",
        "    train=pd.read_csv(train_path)\n",
        "    test=pd.read_csv(test_path)\n",
        "    train.columns=[x for x in range(188)]\n",
        "    test.columns=[x for x in range(188)]\n",
        "    return train,test"
      ],
      "metadata": {
        "id": "aNtY1aA2-JkV"
      },
      "execution_count": 3,
      "outputs": []
    },
    {
      "cell_type": "markdown",
      "source": [
        "### MIT dataset"
      ],
      "metadata": {
        "id": "BbrE-aoXQVnH"
      }
    },
    {
      "cell_type": "code",
      "source": [
        "mit_train_path=\"./datasets/mitbih_train.csv\"\n",
        "mit_test_path=\"./datasets/mitbih_test.csv\""
      ],
      "metadata": {
        "id": "y5_Vy8SW-zVu"
      },
      "execution_count": 4,
      "outputs": []
    },
    {
      "cell_type": "code",
      "source": [
        "mit_train, mit_test= create_pd(mit_train_path,mit_test_path)\n",
        "mit_train.head()"
      ],
      "metadata": {
        "id": "dgvAnY-9-5jo",
        "colab": {
          "base_uri": "https://localhost:8080/",
          "height": 279
        },
        "outputId": "8100d623-c503-4ab9-907a-3af104f6dc85"
      },
      "execution_count": 5,
      "outputs": [
        {
          "output_type": "execute_result",
          "data": {
            "text/plain": [
              "        0         1         2         3         4         5         6    \\\n",
              "0  0.960114  0.863248  0.461538  0.196581  0.094017  0.125356  0.099715   \n",
              "1  1.000000  0.659459  0.186486  0.070270  0.070270  0.059459  0.056757   \n",
              "2  0.925414  0.665746  0.541436  0.276243  0.196133  0.077348  0.071823   \n",
              "3  0.967136  1.000000  0.830986  0.586854  0.356808  0.248826  0.145540   \n",
              "4  0.927461  1.000000  0.626943  0.193437  0.094991  0.072539  0.043178   \n",
              "\n",
              "        7         8         9    ...  178  179  180  181  182  183  184  185  \\\n",
              "0  0.088319  0.074074  0.082621  ...  0.0  0.0  0.0  0.0  0.0  0.0  0.0  0.0   \n",
              "1  0.043243  0.054054  0.045946  ...  0.0  0.0  0.0  0.0  0.0  0.0  0.0  0.0   \n",
              "2  0.060773  0.066298  0.058011  ...  0.0  0.0  0.0  0.0  0.0  0.0  0.0  0.0   \n",
              "3  0.089202  0.117371  0.150235  ...  0.0  0.0  0.0  0.0  0.0  0.0  0.0  0.0   \n",
              "4  0.053541  0.093264  0.189983  ...  0.0  0.0  0.0  0.0  0.0  0.0  0.0  0.0   \n",
              "\n",
              "   186  187  \n",
              "0  0.0  0.0  \n",
              "1  0.0  0.0  \n",
              "2  0.0  0.0  \n",
              "3  0.0  0.0  \n",
              "4  0.0  0.0  \n",
              "\n",
              "[5 rows x 188 columns]"
            ],
            "text/html": [
              "\n",
              "  <div id=\"df-1c981345-d162-45ed-8094-364fea747fd2\">\n",
              "    <div class=\"colab-df-container\">\n",
              "      <div>\n",
              "<style scoped>\n",
              "    .dataframe tbody tr th:only-of-type {\n",
              "        vertical-align: middle;\n",
              "    }\n",
              "\n",
              "    .dataframe tbody tr th {\n",
              "        vertical-align: top;\n",
              "    }\n",
              "\n",
              "    .dataframe thead th {\n",
              "        text-align: right;\n",
              "    }\n",
              "</style>\n",
              "<table border=\"1\" class=\"dataframe\">\n",
              "  <thead>\n",
              "    <tr style=\"text-align: right;\">\n",
              "      <th></th>\n",
              "      <th>0</th>\n",
              "      <th>1</th>\n",
              "      <th>2</th>\n",
              "      <th>3</th>\n",
              "      <th>4</th>\n",
              "      <th>5</th>\n",
              "      <th>6</th>\n",
              "      <th>7</th>\n",
              "      <th>8</th>\n",
              "      <th>9</th>\n",
              "      <th>...</th>\n",
              "      <th>178</th>\n",
              "      <th>179</th>\n",
              "      <th>180</th>\n",
              "      <th>181</th>\n",
              "      <th>182</th>\n",
              "      <th>183</th>\n",
              "      <th>184</th>\n",
              "      <th>185</th>\n",
              "      <th>186</th>\n",
              "      <th>187</th>\n",
              "    </tr>\n",
              "  </thead>\n",
              "  <tbody>\n",
              "    <tr>\n",
              "      <th>0</th>\n",
              "      <td>0.960114</td>\n",
              "      <td>0.863248</td>\n",
              "      <td>0.461538</td>\n",
              "      <td>0.196581</td>\n",
              "      <td>0.094017</td>\n",
              "      <td>0.125356</td>\n",
              "      <td>0.099715</td>\n",
              "      <td>0.088319</td>\n",
              "      <td>0.074074</td>\n",
              "      <td>0.082621</td>\n",
              "      <td>...</td>\n",
              "      <td>0.0</td>\n",
              "      <td>0.0</td>\n",
              "      <td>0.0</td>\n",
              "      <td>0.0</td>\n",
              "      <td>0.0</td>\n",
              "      <td>0.0</td>\n",
              "      <td>0.0</td>\n",
              "      <td>0.0</td>\n",
              "      <td>0.0</td>\n",
              "      <td>0.0</td>\n",
              "    </tr>\n",
              "    <tr>\n",
              "      <th>1</th>\n",
              "      <td>1.000000</td>\n",
              "      <td>0.659459</td>\n",
              "      <td>0.186486</td>\n",
              "      <td>0.070270</td>\n",
              "      <td>0.070270</td>\n",
              "      <td>0.059459</td>\n",
              "      <td>0.056757</td>\n",
              "      <td>0.043243</td>\n",
              "      <td>0.054054</td>\n",
              "      <td>0.045946</td>\n",
              "      <td>...</td>\n",
              "      <td>0.0</td>\n",
              "      <td>0.0</td>\n",
              "      <td>0.0</td>\n",
              "      <td>0.0</td>\n",
              "      <td>0.0</td>\n",
              "      <td>0.0</td>\n",
              "      <td>0.0</td>\n",
              "      <td>0.0</td>\n",
              "      <td>0.0</td>\n",
              "      <td>0.0</td>\n",
              "    </tr>\n",
              "    <tr>\n",
              "      <th>2</th>\n",
              "      <td>0.925414</td>\n",
              "      <td>0.665746</td>\n",
              "      <td>0.541436</td>\n",
              "      <td>0.276243</td>\n",
              "      <td>0.196133</td>\n",
              "      <td>0.077348</td>\n",
              "      <td>0.071823</td>\n",
              "      <td>0.060773</td>\n",
              "      <td>0.066298</td>\n",
              "      <td>0.058011</td>\n",
              "      <td>...</td>\n",
              "      <td>0.0</td>\n",
              "      <td>0.0</td>\n",
              "      <td>0.0</td>\n",
              "      <td>0.0</td>\n",
              "      <td>0.0</td>\n",
              "      <td>0.0</td>\n",
              "      <td>0.0</td>\n",
              "      <td>0.0</td>\n",
              "      <td>0.0</td>\n",
              "      <td>0.0</td>\n",
              "    </tr>\n",
              "    <tr>\n",
              "      <th>3</th>\n",
              "      <td>0.967136</td>\n",
              "      <td>1.000000</td>\n",
              "      <td>0.830986</td>\n",
              "      <td>0.586854</td>\n",
              "      <td>0.356808</td>\n",
              "      <td>0.248826</td>\n",
              "      <td>0.145540</td>\n",
              "      <td>0.089202</td>\n",
              "      <td>0.117371</td>\n",
              "      <td>0.150235</td>\n",
              "      <td>...</td>\n",
              "      <td>0.0</td>\n",
              "      <td>0.0</td>\n",
              "      <td>0.0</td>\n",
              "      <td>0.0</td>\n",
              "      <td>0.0</td>\n",
              "      <td>0.0</td>\n",
              "      <td>0.0</td>\n",
              "      <td>0.0</td>\n",
              "      <td>0.0</td>\n",
              "      <td>0.0</td>\n",
              "    </tr>\n",
              "    <tr>\n",
              "      <th>4</th>\n",
              "      <td>0.927461</td>\n",
              "      <td>1.000000</td>\n",
              "      <td>0.626943</td>\n",
              "      <td>0.193437</td>\n",
              "      <td>0.094991</td>\n",
              "      <td>0.072539</td>\n",
              "      <td>0.043178</td>\n",
              "      <td>0.053541</td>\n",
              "      <td>0.093264</td>\n",
              "      <td>0.189983</td>\n",
              "      <td>...</td>\n",
              "      <td>0.0</td>\n",
              "      <td>0.0</td>\n",
              "      <td>0.0</td>\n",
              "      <td>0.0</td>\n",
              "      <td>0.0</td>\n",
              "      <td>0.0</td>\n",
              "      <td>0.0</td>\n",
              "      <td>0.0</td>\n",
              "      <td>0.0</td>\n",
              "      <td>0.0</td>\n",
              "    </tr>\n",
              "  </tbody>\n",
              "</table>\n",
              "<p>5 rows × 188 columns</p>\n",
              "</div>\n",
              "      <button class=\"colab-df-convert\" onclick=\"convertToInteractive('df-1c981345-d162-45ed-8094-364fea747fd2')\"\n",
              "              title=\"Convert this dataframe to an interactive table.\"\n",
              "              style=\"display:none;\">\n",
              "        \n",
              "  <svg xmlns=\"http://www.w3.org/2000/svg\" height=\"24px\"viewBox=\"0 0 24 24\"\n",
              "       width=\"24px\">\n",
              "    <path d=\"M0 0h24v24H0V0z\" fill=\"none\"/>\n",
              "    <path d=\"M18.56 5.44l.94 2.06.94-2.06 2.06-.94-2.06-.94-.94-2.06-.94 2.06-2.06.94zm-11 1L8.5 8.5l.94-2.06 2.06-.94-2.06-.94L8.5 2.5l-.94 2.06-2.06.94zm10 10l.94 2.06.94-2.06 2.06-.94-2.06-.94-.94-2.06-.94 2.06-2.06.94z\"/><path d=\"M17.41 7.96l-1.37-1.37c-.4-.4-.92-.59-1.43-.59-.52 0-1.04.2-1.43.59L10.3 9.45l-7.72 7.72c-.78.78-.78 2.05 0 2.83L4 21.41c.39.39.9.59 1.41.59.51 0 1.02-.2 1.41-.59l7.78-7.78 2.81-2.81c.8-.78.8-2.07 0-2.86zM5.41 20L4 18.59l7.72-7.72 1.47 1.35L5.41 20z\"/>\n",
              "  </svg>\n",
              "      </button>\n",
              "      \n",
              "  <style>\n",
              "    .colab-df-container {\n",
              "      display:flex;\n",
              "      flex-wrap:wrap;\n",
              "      gap: 12px;\n",
              "    }\n",
              "\n",
              "    .colab-df-convert {\n",
              "      background-color: #E8F0FE;\n",
              "      border: none;\n",
              "      border-radius: 50%;\n",
              "      cursor: pointer;\n",
              "      display: none;\n",
              "      fill: #1967D2;\n",
              "      height: 32px;\n",
              "      padding: 0 0 0 0;\n",
              "      width: 32px;\n",
              "    }\n",
              "\n",
              "    .colab-df-convert:hover {\n",
              "      background-color: #E2EBFA;\n",
              "      box-shadow: 0px 1px 2px rgba(60, 64, 67, 0.3), 0px 1px 3px 1px rgba(60, 64, 67, 0.15);\n",
              "      fill: #174EA6;\n",
              "    }\n",
              "\n",
              "    [theme=dark] .colab-df-convert {\n",
              "      background-color: #3B4455;\n",
              "      fill: #D2E3FC;\n",
              "    }\n",
              "\n",
              "    [theme=dark] .colab-df-convert:hover {\n",
              "      background-color: #434B5C;\n",
              "      box-shadow: 0px 1px 3px 1px rgba(0, 0, 0, 0.15);\n",
              "      filter: drop-shadow(0px 1px 2px rgba(0, 0, 0, 0.3));\n",
              "      fill: #FFFFFF;\n",
              "    }\n",
              "  </style>\n",
              "\n",
              "      <script>\n",
              "        const buttonEl =\n",
              "          document.querySelector('#df-1c981345-d162-45ed-8094-364fea747fd2 button.colab-df-convert');\n",
              "        buttonEl.style.display =\n",
              "          google.colab.kernel.accessAllowed ? 'block' : 'none';\n",
              "\n",
              "        async function convertToInteractive(key) {\n",
              "          const element = document.querySelector('#df-1c981345-d162-45ed-8094-364fea747fd2');\n",
              "          const dataTable =\n",
              "            await google.colab.kernel.invokeFunction('convertToInteractive',\n",
              "                                                     [key], {});\n",
              "          if (!dataTable) return;\n",
              "\n",
              "          const docLinkHtml = 'Like what you see? Visit the ' +\n",
              "            '<a target=\"_blank\" href=https://colab.research.google.com/notebooks/data_table.ipynb>data table notebook</a>'\n",
              "            + ' to learn more about interactive tables.';\n",
              "          element.innerHTML = '';\n",
              "          dataTable['output_type'] = 'display_data';\n",
              "          await google.colab.output.renderOutput(dataTable, element);\n",
              "          const docLink = document.createElement('div');\n",
              "          docLink.innerHTML = docLinkHtml;\n",
              "          element.appendChild(docLink);\n",
              "        }\n",
              "      </script>\n",
              "    </div>\n",
              "  </div>\n",
              "  "
            ]
          },
          "metadata": {},
          "execution_count": 5
        }
      ]
    },
    {
      "cell_type": "code",
      "source": [
        "print(\"train relative percentage: {:.3f}%\".format(mit_train.shape[0]*100/(mit_train.shape[0]+mit_test.shape[0])))\n",
        "print(\"test relative percentage: {:.3f}%\".format(mit_test.shape[0]*100/(mit_train.shape[0]+mit_test.shape[0])))"
      ],
      "metadata": {
        "colab": {
          "base_uri": "https://localhost:8080/"
        },
        "id": "LMbdxNbdRRrB",
        "outputId": "3c0ca2b2-b7e9-4d48-f4c4-309716ff17ed"
      },
      "execution_count": 6,
      "outputs": [
        {
          "output_type": "stream",
          "name": "stdout",
          "text": [
            "train relative percentage: 79.998%\n",
            "test relative percentage: 20.002%\n"
          ]
        }
      ]
    },
    {
      "cell_type": "code",
      "source": [
        "mit = pd.concat([mit_train,mit_test], axis=0, join='inner').sort_index()"
      ],
      "metadata": {
        "id": "hX-4BIuQMzZE"
      },
      "execution_count": 7,
      "outputs": []
    },
    {
      "cell_type": "code",
      "source": [
        "totals = mit.loc[:,187].value_counts().sort_index().sum()\n",
        "class_sums = mit.loc[:,187].value_counts().sort_index()\n",
        "print(\"classes proportion: \",[round(class_sums[i]/totals,2) for i in range(5)])"
      ],
      "metadata": {
        "colab": {
          "base_uri": "https://localhost:8080/"
        },
        "id": "ST4UH72pNb3Q",
        "outputId": "eb84b798-d05b-437a-f1f6-0c3eb88f3901"
      },
      "execution_count": 8,
      "outputs": [
        {
          "output_type": "stream",
          "name": "stdout",
          "text": [
            "classes proportion:  [0.83, 0.03, 0.07, 0.01, 0.07]\n"
          ]
        }
      ]
    },
    {
      "cell_type": "markdown",
      "source": [
        "###ptb dataset"
      ],
      "metadata": {
        "id": "gDEorOHJQRBu"
      }
    },
    {
      "cell_type": "code",
      "source": [
        "ptb_normal_path=\"./datasets/ptbdb_normal.csv\"\n",
        "ptb_abnormal_path=\"./datasets/ptbdb_abnormal.csv\""
      ],
      "metadata": {
        "id": "A8xs01RMQE1x"
      },
      "execution_count": 9,
      "outputs": []
    },
    {
      "cell_type": "code",
      "source": [
        "ptb_normal, ptb_abnormal= create_pd(ptb_normal_path,ptb_abnormal_path)\n",
        "ptb = pd.concat([ptb_normal,ptb_abnormal], axis=0, join='inner').sort_index()\n",
        "ptb.head()"
      ],
      "metadata": {
        "colab": {
          "base_uri": "https://localhost:8080/",
          "height": 279
        },
        "id": "bpLmUpwjQeJe",
        "outputId": "c192a5bd-9b93-437a-837a-e3b30862975a"
      },
      "execution_count": 10,
      "outputs": [
        {
          "output_type": "execute_result",
          "data": {
            "text/plain": [
              "        0         1         2         3         4         5         6    \\\n",
              "0  1.000000  0.794681  0.375387  0.116883  0.000000  0.171923  0.283859   \n",
              "0  1.000000  0.606941  0.384181  0.254237  0.223567  0.276836  0.253430   \n",
              "1  1.000000  0.951613  0.923963  0.853303  0.791859  0.734255  0.672043   \n",
              "1  0.909029  0.791482  0.423169  0.186712  0.000000  0.007836  0.063032   \n",
              "2  1.000000  0.478893  0.056760  0.064176  0.081289  0.072732  0.055619   \n",
              "\n",
              "        7         8         9    ...  178  179  180  181  182  183  184  185  \\\n",
              "0  0.293754  0.325912  0.345083  ...  0.0  0.0  0.0  0.0  0.0  0.0  0.0  0.0   \n",
              "0  0.184826  0.153349  0.121872  ...  0.0  0.0  0.0  0.0  0.0  0.0  0.0  0.0   \n",
              "1  0.685100  0.670507  0.667435  ...  0.0  0.0  0.0  0.0  0.0  0.0  0.0  0.0   \n",
              "1  0.077002  0.074957  0.077342  ...  0.0  0.0  0.0  0.0  0.0  0.0  0.0  0.0   \n",
              "2  0.048774  0.054478  0.041643  ...  0.0  0.0  0.0  0.0  0.0  0.0  0.0  0.0   \n",
              "\n",
              "   186  187  \n",
              "0  0.0  0.0  \n",
              "0  0.0  1.0  \n",
              "1  0.0  1.0  \n",
              "1  0.0  0.0  \n",
              "2  0.0  0.0  \n",
              "\n",
              "[5 rows x 188 columns]"
            ],
            "text/html": [
              "\n",
              "  <div id=\"df-a5f63be9-6e3d-4df0-bafe-07176b4bbd51\">\n",
              "    <div class=\"colab-df-container\">\n",
              "      <div>\n",
              "<style scoped>\n",
              "    .dataframe tbody tr th:only-of-type {\n",
              "        vertical-align: middle;\n",
              "    }\n",
              "\n",
              "    .dataframe tbody tr th {\n",
              "        vertical-align: top;\n",
              "    }\n",
              "\n",
              "    .dataframe thead th {\n",
              "        text-align: right;\n",
              "    }\n",
              "</style>\n",
              "<table border=\"1\" class=\"dataframe\">\n",
              "  <thead>\n",
              "    <tr style=\"text-align: right;\">\n",
              "      <th></th>\n",
              "      <th>0</th>\n",
              "      <th>1</th>\n",
              "      <th>2</th>\n",
              "      <th>3</th>\n",
              "      <th>4</th>\n",
              "      <th>5</th>\n",
              "      <th>6</th>\n",
              "      <th>7</th>\n",
              "      <th>8</th>\n",
              "      <th>9</th>\n",
              "      <th>...</th>\n",
              "      <th>178</th>\n",
              "      <th>179</th>\n",
              "      <th>180</th>\n",
              "      <th>181</th>\n",
              "      <th>182</th>\n",
              "      <th>183</th>\n",
              "      <th>184</th>\n",
              "      <th>185</th>\n",
              "      <th>186</th>\n",
              "      <th>187</th>\n",
              "    </tr>\n",
              "  </thead>\n",
              "  <tbody>\n",
              "    <tr>\n",
              "      <th>0</th>\n",
              "      <td>1.000000</td>\n",
              "      <td>0.794681</td>\n",
              "      <td>0.375387</td>\n",
              "      <td>0.116883</td>\n",
              "      <td>0.000000</td>\n",
              "      <td>0.171923</td>\n",
              "      <td>0.283859</td>\n",
              "      <td>0.293754</td>\n",
              "      <td>0.325912</td>\n",
              "      <td>0.345083</td>\n",
              "      <td>...</td>\n",
              "      <td>0.0</td>\n",
              "      <td>0.0</td>\n",
              "      <td>0.0</td>\n",
              "      <td>0.0</td>\n",
              "      <td>0.0</td>\n",
              "      <td>0.0</td>\n",
              "      <td>0.0</td>\n",
              "      <td>0.0</td>\n",
              "      <td>0.0</td>\n",
              "      <td>0.0</td>\n",
              "    </tr>\n",
              "    <tr>\n",
              "      <th>0</th>\n",
              "      <td>1.000000</td>\n",
              "      <td>0.606941</td>\n",
              "      <td>0.384181</td>\n",
              "      <td>0.254237</td>\n",
              "      <td>0.223567</td>\n",
              "      <td>0.276836</td>\n",
              "      <td>0.253430</td>\n",
              "      <td>0.184826</td>\n",
              "      <td>0.153349</td>\n",
              "      <td>0.121872</td>\n",
              "      <td>...</td>\n",
              "      <td>0.0</td>\n",
              "      <td>0.0</td>\n",
              "      <td>0.0</td>\n",
              "      <td>0.0</td>\n",
              "      <td>0.0</td>\n",
              "      <td>0.0</td>\n",
              "      <td>0.0</td>\n",
              "      <td>0.0</td>\n",
              "      <td>0.0</td>\n",
              "      <td>1.0</td>\n",
              "    </tr>\n",
              "    <tr>\n",
              "      <th>1</th>\n",
              "      <td>1.000000</td>\n",
              "      <td>0.951613</td>\n",
              "      <td>0.923963</td>\n",
              "      <td>0.853303</td>\n",
              "      <td>0.791859</td>\n",
              "      <td>0.734255</td>\n",
              "      <td>0.672043</td>\n",
              "      <td>0.685100</td>\n",
              "      <td>0.670507</td>\n",
              "      <td>0.667435</td>\n",
              "      <td>...</td>\n",
              "      <td>0.0</td>\n",
              "      <td>0.0</td>\n",
              "      <td>0.0</td>\n",
              "      <td>0.0</td>\n",
              "      <td>0.0</td>\n",
              "      <td>0.0</td>\n",
              "      <td>0.0</td>\n",
              "      <td>0.0</td>\n",
              "      <td>0.0</td>\n",
              "      <td>1.0</td>\n",
              "    </tr>\n",
              "    <tr>\n",
              "      <th>1</th>\n",
              "      <td>0.909029</td>\n",
              "      <td>0.791482</td>\n",
              "      <td>0.423169</td>\n",
              "      <td>0.186712</td>\n",
              "      <td>0.000000</td>\n",
              "      <td>0.007836</td>\n",
              "      <td>0.063032</td>\n",
              "      <td>0.077002</td>\n",
              "      <td>0.074957</td>\n",
              "      <td>0.077342</td>\n",
              "      <td>...</td>\n",
              "      <td>0.0</td>\n",
              "      <td>0.0</td>\n",
              "      <td>0.0</td>\n",
              "      <td>0.0</td>\n",
              "      <td>0.0</td>\n",
              "      <td>0.0</td>\n",
              "      <td>0.0</td>\n",
              "      <td>0.0</td>\n",
              "      <td>0.0</td>\n",
              "      <td>0.0</td>\n",
              "    </tr>\n",
              "    <tr>\n",
              "      <th>2</th>\n",
              "      <td>1.000000</td>\n",
              "      <td>0.478893</td>\n",
              "      <td>0.056760</td>\n",
              "      <td>0.064176</td>\n",
              "      <td>0.081289</td>\n",
              "      <td>0.072732</td>\n",
              "      <td>0.055619</td>\n",
              "      <td>0.048774</td>\n",
              "      <td>0.054478</td>\n",
              "      <td>0.041643</td>\n",
              "      <td>...</td>\n",
              "      <td>0.0</td>\n",
              "      <td>0.0</td>\n",
              "      <td>0.0</td>\n",
              "      <td>0.0</td>\n",
              "      <td>0.0</td>\n",
              "      <td>0.0</td>\n",
              "      <td>0.0</td>\n",
              "      <td>0.0</td>\n",
              "      <td>0.0</td>\n",
              "      <td>0.0</td>\n",
              "    </tr>\n",
              "  </tbody>\n",
              "</table>\n",
              "<p>5 rows × 188 columns</p>\n",
              "</div>\n",
              "      <button class=\"colab-df-convert\" onclick=\"convertToInteractive('df-a5f63be9-6e3d-4df0-bafe-07176b4bbd51')\"\n",
              "              title=\"Convert this dataframe to an interactive table.\"\n",
              "              style=\"display:none;\">\n",
              "        \n",
              "  <svg xmlns=\"http://www.w3.org/2000/svg\" height=\"24px\"viewBox=\"0 0 24 24\"\n",
              "       width=\"24px\">\n",
              "    <path d=\"M0 0h24v24H0V0z\" fill=\"none\"/>\n",
              "    <path d=\"M18.56 5.44l.94 2.06.94-2.06 2.06-.94-2.06-.94-.94-2.06-.94 2.06-2.06.94zm-11 1L8.5 8.5l.94-2.06 2.06-.94-2.06-.94L8.5 2.5l-.94 2.06-2.06.94zm10 10l.94 2.06.94-2.06 2.06-.94-2.06-.94-.94-2.06-.94 2.06-2.06.94z\"/><path d=\"M17.41 7.96l-1.37-1.37c-.4-.4-.92-.59-1.43-.59-.52 0-1.04.2-1.43.59L10.3 9.45l-7.72 7.72c-.78.78-.78 2.05 0 2.83L4 21.41c.39.39.9.59 1.41.59.51 0 1.02-.2 1.41-.59l7.78-7.78 2.81-2.81c.8-.78.8-2.07 0-2.86zM5.41 20L4 18.59l7.72-7.72 1.47 1.35L5.41 20z\"/>\n",
              "  </svg>\n",
              "      </button>\n",
              "      \n",
              "  <style>\n",
              "    .colab-df-container {\n",
              "      display:flex;\n",
              "      flex-wrap:wrap;\n",
              "      gap: 12px;\n",
              "    }\n",
              "\n",
              "    .colab-df-convert {\n",
              "      background-color: #E8F0FE;\n",
              "      border: none;\n",
              "      border-radius: 50%;\n",
              "      cursor: pointer;\n",
              "      display: none;\n",
              "      fill: #1967D2;\n",
              "      height: 32px;\n",
              "      padding: 0 0 0 0;\n",
              "      width: 32px;\n",
              "    }\n",
              "\n",
              "    .colab-df-convert:hover {\n",
              "      background-color: #E2EBFA;\n",
              "      box-shadow: 0px 1px 2px rgba(60, 64, 67, 0.3), 0px 1px 3px 1px rgba(60, 64, 67, 0.15);\n",
              "      fill: #174EA6;\n",
              "    }\n",
              "\n",
              "    [theme=dark] .colab-df-convert {\n",
              "      background-color: #3B4455;\n",
              "      fill: #D2E3FC;\n",
              "    }\n",
              "\n",
              "    [theme=dark] .colab-df-convert:hover {\n",
              "      background-color: #434B5C;\n",
              "      box-shadow: 0px 1px 3px 1px rgba(0, 0, 0, 0.15);\n",
              "      filter: drop-shadow(0px 1px 2px rgba(0, 0, 0, 0.3));\n",
              "      fill: #FFFFFF;\n",
              "    }\n",
              "  </style>\n",
              "\n",
              "      <script>\n",
              "        const buttonEl =\n",
              "          document.querySelector('#df-a5f63be9-6e3d-4df0-bafe-07176b4bbd51 button.colab-df-convert');\n",
              "        buttonEl.style.display =\n",
              "          google.colab.kernel.accessAllowed ? 'block' : 'none';\n",
              "\n",
              "        async function convertToInteractive(key) {\n",
              "          const element = document.querySelector('#df-a5f63be9-6e3d-4df0-bafe-07176b4bbd51');\n",
              "          const dataTable =\n",
              "            await google.colab.kernel.invokeFunction('convertToInteractive',\n",
              "                                                     [key], {});\n",
              "          if (!dataTable) return;\n",
              "\n",
              "          const docLinkHtml = 'Like what you see? Visit the ' +\n",
              "            '<a target=\"_blank\" href=https://colab.research.google.com/notebooks/data_table.ipynb>data table notebook</a>'\n",
              "            + ' to learn more about interactive tables.';\n",
              "          element.innerHTML = '';\n",
              "          dataTable['output_type'] = 'display_data';\n",
              "          await google.colab.output.renderOutput(dataTable, element);\n",
              "          const docLink = document.createElement('div');\n",
              "          docLink.innerHTML = docLinkHtml;\n",
              "          element.appendChild(docLink);\n",
              "        }\n",
              "      </script>\n",
              "    </div>\n",
              "  </div>\n",
              "  "
            ]
          },
          "metadata": {},
          "execution_count": 10
        }
      ]
    },
    {
      "cell_type": "code",
      "source": [
        "class_sums = ptb.loc[:,187].value_counts().sort_index()\n",
        "print(\"classes proportion: \",[round(class_sums[i]/len(ptb),2) for i in range(2)])"
      ],
      "metadata": {
        "colab": {
          "base_uri": "https://localhost:8080/"
        },
        "id": "tpcJwDkDQ8bc",
        "outputId": "34573594-bdef-49f9-d953-6c78bbaaa8d9"
      },
      "execution_count": 11,
      "outputs": [
        {
          "output_type": "stream",
          "name": "stdout",
          "text": [
            "classes proportion:  [0.28, 0.72]\n"
          ]
        }
      ]
    },
    {
      "cell_type": "code",
      "source": [
        "ptb_train, ptb_test = train_test_split(ptb, test_size=0.2, random_state=0)"
      ],
      "metadata": {
        "id": "uA345s6WTQQg"
      },
      "execution_count": 12,
      "outputs": []
    },
    {
      "cell_type": "markdown",
      "source": [
        "##model"
      ],
      "metadata": {
        "id": "v8r9kcaBB5nc"
      }
    },
    {
      "cell_type": "code",
      "source": [
        "class HeartBeatNet(nn.Module):\n",
        "  def __init__(self):\n",
        "    super(HeartBeatNet, self).__init__()\n",
        "    self.conv_layer = nn.Sequential(\n",
        "        # Conv Layer block 1\n",
        "        nn.Conv1d(in_channels=1, out_channels=32, kernel_size=5, padding='valid'),\n",
        "        nn.BatchNorm1d(32),\n",
        "        nn.ReLU(inplace=True),\n",
        "\n",
        "        # Conv Layer block 2\n",
        "        nn.Conv1d(in_channels=32, out_channels=64, kernel_size=5, padding='valid'),\n",
        "        nn.BatchNorm1d(64),\n",
        "        nn.ReLU(inplace=True),\n",
        "        nn.MaxPool1d(kernel_size=3),\n",
        "\n",
        "        # Conv Layer block 3\n",
        "        nn.Conv1d(in_channels=64, out_channels=128, kernel_size=3, padding='valid'),\n",
        "        nn.BatchNorm1d(128),\n",
        "        nn.ReLU(inplace=True),\n",
        "\n",
        "        # Conv Layer block 4\n",
        "        nn.Conv1d(in_channels=128, out_channels=256, kernel_size=3, padding='valid'),\n",
        "        nn.BatchNorm1d(256),\n",
        "        nn.ReLU(inplace=True),\n",
        "        nn.AvgPool1d(kernel_size=3)\n",
        "    )\n",
        "\n",
        "    self.fc_layer = nn.Sequential(\n",
        "        nn.Dropout(p=0.3),\n",
        "\n",
        "        nn.Linear(4608, 1024),\n",
        "        nn.ReLU(inplace=True),\n",
        "        nn.Dropout(p=0.3),\n",
        "\n",
        "        nn.Linear(1024, 256),\n",
        "        nn.ReLU(inplace=True),\n",
        "        nn.Dropout(p=0.3),\n",
        "\n",
        "        nn.Linear(256, 32),\n",
        "        nn.ReLU(inplace=True),\n",
        "        nn.Dropout(p=0.3),\n",
        "\n",
        "        nn.Linear(32, 5)\n",
        "    )\n",
        "  def forward(self,x):\n",
        "    \"\"\"\n",
        "    x: 1-dim vector of size (Batch ,1, HEARTBEAT_SIZE)\n",
        "    return: forward pass of x to the convolution and fully connected layers\n",
        "    \"\"\"\n",
        "\n",
        "    x = self.conv_layer(x)\n",
        "    x = x.view(x.size(0), -1)\n",
        "    x = self.fc_layer(x)\n",
        "\n",
        "    return x"
      ],
      "metadata": {
        "id": "J2TQNRyhB3xK"
      },
      "execution_count": 13,
      "outputs": []
    },
    {
      "cell_type": "markdown",
      "source": [
        "##Train"
      ],
      "metadata": {
        "id": "J_MIyFu5m12B"
      }
    },
    {
      "cell_type": "markdown",
      "source": [
        "device"
      ],
      "metadata": {
        "id": "dZbhov65m4KK"
      }
    },
    {
      "cell_type": "code",
      "source": [
        "if torch.cuda.is_available():\n",
        "    print(\"current cuda device: \", torch.cuda.current_device())\n",
        "device = torch.device(\"cuda:0\" if torch.cuda.is_available() else \"cpu\")\n",
        "print(\"running calculations on device: \", device)"
      ],
      "metadata": {
        "colab": {
          "base_uri": "https://localhost:8080/"
        },
        "id": "Ag9FPL-VmRHV",
        "outputId": "de29bd79-88be-4fdb-a7b5-7d97d7fe8db5"
      },
      "execution_count": 14,
      "outputs": [
        {
          "output_type": "stream",
          "name": "stdout",
          "text": [
            "current cuda device:  0\n",
            "running calculations on device:  cuda:0\n"
          ]
        }
      ]
    },
    {
      "cell_type": "markdown",
      "source": [
        "train loop"
      ],
      "metadata": {
        "id": "GZXvdFF1HrNx"
      }
    },
    {
      "cell_type": "code",
      "source": [
        "def train(model,trainloader,testloader,criterion,optimizer,epochs):\n",
        "    train_losses = []\n",
        "    test_losses = []\n",
        "    train_accuracies = []\n",
        "    test_accuracies = []\n",
        "    \n",
        "    # training loop\n",
        "    for epoch in range(1, epochs + 1):\n",
        "        model.train() # put in training mode\n",
        "        running_loss = 0.0\n",
        "        for i, data in enumerate(trainloader, 0):\n",
        "            # get the inputs\n",
        "            ecgs, labels = data\n",
        "            # send them to device\n",
        "            ecgs = ecgs.to(device)\n",
        "            labels = labels.to(device)\n",
        "            # forward + backward + optimize\n",
        "            outputs = model(ecgs) # forward pass\n",
        "            loss = criterion(outputs, labels) # calculate the loss\n",
        "\n",
        "            optimizer.zero_grad() # zero the parameter gradients\n",
        "            loss.backward() # backpropagation\n",
        "            optimizer.step() # update parameters\n",
        "            # print statistics\n",
        "            running_loss += loss.data.item()\n",
        "\n",
        "        # Normalizing the loss by the total number of train batches\n",
        "        running_loss /= len(trainloader)\n",
        "\n",
        "        #calculate the test loss for epoch\n",
        "        # # test_loss = calculate_test_loss(model, (X_test,y_test), criterion, device)\n",
        "\n",
        "        # Calculate training/test set accuracy of the existing model\n",
        "        train_accuracy = calculate_accuracy(model, trainloader, device)\n",
        "        test_accuracy = calculate_accuracy(model, testloader, device)\n",
        "        log = \"Epoch: {} | Loss: {:.4f} | Training accuracy: {:.3f}% | Test accuracy: {:.3f}%  \".format(epoch, running_loss, \n",
        "                                                                                                        train_accuracy,test_accuracy)\n",
        "        print(log)\n",
        "\n",
        "        # save model\n",
        "        train_losses.append(running_loss)\n",
        "        # test_losses.append(test_loss)\n",
        "        train_accuracies.append(train_accuracy)\n",
        "        test_accuracies.append(test_accuracy)\n",
        "    return train_losses,test_losses,train_accuracies,test_accuracies"
      ],
      "metadata": {
        "id": "Xl9wB1_NHqtv"
      },
      "execution_count": 15,
      "outputs": []
    },
    {
      "cell_type": "markdown",
      "source": [
        "define the accuracy"
      ],
      "metadata": {
        "id": "QsBrfGCGHN4i"
      }
    },
    {
      "cell_type": "code",
      "source": [
        "def calculate_accuracy(model, dataloader, device):\n",
        "    model.eval() # put in evaluation mode\n",
        "    total_correct = 0\n",
        "    total_ecg = 0\n",
        "    with torch.no_grad():\n",
        "        for data in dataloader:\n",
        "            ecgs, labels = data\n",
        "            ecgs = ecgs.to(device)\n",
        "            labels = labels.to(device)\n",
        "\n",
        "            outputs = model(ecgs)\n",
        "            _, predicted = torch.max(outputs.data, 1)\n",
        "            total_ecg += labels.size(0)\n",
        "            total_correct += (predicted == labels).sum().item()\n",
        "    model_accuracy = total_correct / total_ecg * 100\n",
        "    return model_accuracy"
      ],
      "metadata": {
        "id": "bIh6K-vJHNFu"
      },
      "execution_count": 16,
      "outputs": []
    },
    {
      "cell_type": "markdown",
      "source": [
        "model"
      ],
      "metadata": {
        "id": "BEjRzZ-Am5uw"
      }
    },
    {
      "cell_type": "code",
      "source": [
        "model = HeartBeatNet().to(device)"
      ],
      "metadata": {
        "id": "i_kEGGUPmV7v"
      },
      "execution_count": 17,
      "outputs": []
    },
    {
      "cell_type": "markdown",
      "source": [
        "N.o. weight parameters"
      ],
      "metadata": {
        "id": "OnobJO_rmreD"
      }
    },
    {
      "cell_type": "code",
      "source": [
        "num_trainable_params = sum([p.numel() for p in model.parameters() if p.requires_grad])\n",
        "print(\"num trainable weights: \", num_trainable_params)\n",
        "size_model = 0\n",
        "for param in model.parameters():\n",
        "  if param.data.is_floating_point():\n",
        "    size_model += param.numel() * torch.finfo(param.data.dtype).bits\n",
        "  else:\n",
        "    size_model += param.numel() * torch.iinfo(param.data.dtype).bits\n",
        "print(f\"model size: {size_model} / bit | {size_model / 8e6:.2f} / MB\")"
      ],
      "metadata": {
        "colab": {
          "base_uri": "https://localhost:8080/"
        },
        "id": "WkQpO4FAmhg9",
        "outputId": "3e54fc9a-0d7d-48ab-be77-894998277a2b"
      },
      "execution_count": 18,
      "outputs": [
        {
          "output_type": "stream",
          "name": "stdout",
          "text": [
            "num trainable weights:  5125125\n",
            "model size: 164004000 / bit | 20.50 / MB\n"
          ]
        }
      ]
    },
    {
      "cell_type": "markdown",
      "source": [
        "hyperparameters"
      ],
      "metadata": {
        "id": "h9u-SCxym8b1"
      }
    },
    {
      "cell_type": "code",
      "source": [
        "nb_class = 5\n",
        "\n",
        "batch_size = 64\n",
        "learning_rate = 1e-4\n",
        "epochs = 20\n",
        "\n",
        "criterion = nn.CrossEntropyLoss()\n",
        "\n",
        "optimizer = torch.optim.Adam(model.parameters(), lr=learning_rate)"
      ],
      "metadata": {
        "id": "z_seVqPrnJGv"
      },
      "execution_count": 19,
      "outputs": []
    },
    {
      "cell_type": "markdown",
      "source": [
        "define the dataset"
      ],
      "metadata": {
        "id": "-hf3WHKfHIb9"
      }
    },
    {
      "cell_type": "code",
      "source": [
        "from torch.utils.data import TensorDataset\n",
        "\n",
        "X_train = torch.tensor(mit_train.loc[:,:186].values,dtype = torch.float32).unsqueeze(1)\n",
        "y_train = torch.tensor(mit_train.loc[:,187:].values,dtype=torch.int64).squeeze()\n",
        "\n",
        "X_test = torch.tensor(mit_test.loc[:,:186].values,dtype = torch.float32).unsqueeze(1)\n",
        "y_test = torch.tensor(mit_test.loc[:,187:].values,dtype=torch.int64).squeeze()\n",
        "\n",
        "trainloader = torch.utils.data.DataLoader(TensorDataset(X_train,y_train),\n",
        " batch_size=batch_size, shuffle=True, num_workers=2)\n",
        "testloader = torch.utils.data.DataLoader(TensorDataset(X_test,y_test),\n",
        " batch_size=batch_size, shuffle=False, num_workers=2)"
      ],
      "metadata": {
        "id": "18IxmwP6qfoi"
      },
      "execution_count": 20,
      "outputs": []
    },
    {
      "cell_type": "code",
      "source": [
        "train_losses,test_losses,train_accuracies,test_accuracies = train(model,trainloader,testloader,criterion,optimizer,epochs)\n",
        "\n",
        "print(\"final accuracies:\")\n",
        "print(\"\\ttest accuracy: {:.5f}%\\n\\ttrain accuracy: {:.5f}%\".format(test_accuracies[-1],train_accuracies[-1]))"
      ],
      "metadata": {
        "colab": {
          "base_uri": "https://localhost:8080/"
        },
        "id": "3jqkaGwszjWe",
        "outputId": "5c7cb07c-1b93-4714-dccd-706a7a6c2f41"
      },
      "execution_count": 23,
      "outputs": [
        {
          "output_type": "stream",
          "name": "stdout",
          "text": [
            "final accuracies:\n",
            "\ttest accuracy: 98.66155%\n",
            "\ttrain accuracy: 99.57397%\n"
          ]
        }
      ]
    },
    {
      "cell_type": "code",
      "source": [
        "figure = plt.figure(figsize=(15,8))\n",
        "ax = figure.add_subplot(1,1,1)\n",
        "ax.plot(range(1,epochs+1),train_accuracies,label = \"train accuracy\")\n",
        "ax.plot(range(1,epochs+1),test_accuracies,label = \"test accuracy\")\n",
        "ax.hlines(test_accuracies[-1],xmin=0,xmax=20,colors='orange',linestyles='dashed',alpha=0.5)\n",
        "ax.hlines(train_accuracies[-1],xmin=0,xmax=20,colors='blue',linestyles='dashed',alpha=0.5)\n",
        "ax.legend()\n",
        "ax.set_title(\"Accuracies Curves\")\n",
        "ax.set_xticks(range(1,epochs+1,2))\n",
        "ax.set_xlim(left=0)\n",
        "ax.set_yticks(np.concatenate([np.linspace(96,100,9),[train_accuracies[-1],test_accuracies[-1]]]))\n",
        "ax.set_xlabel(\"Epoch\")\n",
        "_=ax.set_ylabel(\"Accuracy (%)\")"
      ],
      "metadata": {
        "colab": {
          "base_uri": "https://localhost:8080/",
          "height": 513
        },
        "id": "fgtjhQKNz1gM",
        "outputId": "4ba0b562-12ea-46d5-8b18-c5c3f3d7994e"
      },
      "execution_count": 62,
      "outputs": [
        {
          "output_type": "display_data",
          "data": {
            "text/plain": [
              "<Figure size 1080x576 with 1 Axes>"
            ],
            "image/png": "[encoded data removed]"
          },
          "metadata": {
            "needs_background": "light"
          }
        }
      ]
    },
    {
      "cell_type": "markdown",
      "source": [
        "### now training the ptb"
      ],
      "metadata": {
        "id": "-JqYNksoYKZp"
      }
    },
    {
      "cell_type": "code",
      "source": [
        "ptb_model = HeartBeatNet().to(device)"
      ],
      "metadata": {
        "id": "MyzskPDfYesE"
      },
      "execution_count": 17,
      "outputs": []
    },
    {
      "cell_type": "code",
      "source": [
        "batch_size = 64\n",
        "learning_rate = 1e-4\n",
        "epochs = 20\n",
        "\n",
        "criterion = nn.CrossEntropyLoss()\n",
        "\n",
        "optimizer = torch.optim.Adam(ptb_model.parameters(), lr=learning_rate)"
      ],
      "metadata": {
        "id": "SBFEacRYYkXR"
      },
      "execution_count": 19,
      "outputs": []
    },
    {
      "cell_type": "code",
      "source": [
        "X_train = torch.tensor(ptb_train.loc[:,:186].values,dtype = torch.float32).unsqueeze(1)\n",
        "y_train = torch.tensor(ptb_train.loc[:,187:].values,dtype=torch.int64).squeeze()\n",
        "\n",
        "X_test = torch.tensor(ptb_test.loc[:,:186].values,dtype = torch.float32).unsqueeze(1)\n",
        "y_test = torch.tensor(ptb_test.loc[:,187:].values,dtype=torch.int64).squeeze()\n",
        "\n",
        "trainloader = torch.utils.data.DataLoader(TensorDataset(X_train,y_train),\n",
        " batch_size=batch_size, shuffle=True, num_workers=2)\n",
        "testloader = torch.utils.data.DataLoader(TensorDataset(X_test,y_test),\n",
        " batch_size=batch_size, shuffle=False, num_workers=2)"
      ],
      "metadata": {
        "id": "TTzpQIvBYJY4"
      },
      "execution_count": 20,
      "outputs": []
    },
    {
      "cell_type": "code",
      "source": [
        "train_losses,test_losses,train_accuracies,test_accuracies = train(ptb_model,trainloader,testloader,criterion,optimizer,epochs)"
      ],
      "metadata": {
        "colab": {
          "base_uri": "https://localhost:8080/"
        },
        "id": "ciM833XSYeVD",
        "outputId": "72267e28-049a-4342-ad57-48e85bc52654"
      },
      "execution_count": 21,
      "outputs": [
        {
          "output_type": "stream",
          "name": "stdout",
          "text": [
            "Epoch: 1 | Loss: 0.4793 | Training accuracy: 92.294% | Test accuracy: 91.615%  \n",
            "Epoch: 2 | Loss: 0.1905 | Training accuracy: 96.993% | Test accuracy: 96.598%  \n",
            "Epoch: 3 | Loss: 0.1329 | Training accuracy: 97.672% | Test accuracy: 96.907%  \n",
            "Epoch: 4 | Loss: 0.0978 | Training accuracy: 98.625% | Test accuracy: 97.938%  \n",
            "Epoch: 5 | Loss: 0.0791 | Training accuracy: 98.832% | Test accuracy: 97.973%  \n",
            "Epoch: 6 | Loss: 0.0651 | Training accuracy: 98.935% | Test accuracy: 97.973%  \n",
            "Epoch: 7 | Loss: 0.0574 | Training accuracy: 98.909% | Test accuracy: 98.179%  \n",
            "Epoch: 8 | Loss: 0.0477 | Training accuracy: 99.407% | Test accuracy: 98.763%  \n",
            "Epoch: 9 | Loss: 0.0375 | Training accuracy: 99.562% | Test accuracy: 98.797%  \n",
            "Epoch: 10 | Loss: 0.0396 | Training accuracy: 99.338% | Test accuracy: 98.694%  \n",
            "Epoch: 11 | Loss: 0.0345 | Training accuracy: 99.330% | Test accuracy: 98.282%  \n",
            "Epoch: 12 | Loss: 0.0272 | Training accuracy: 99.562% | Test accuracy: 99.038%  \n",
            "Epoch: 13 | Loss: 0.0315 | Training accuracy: 99.863% | Test accuracy: 99.210%  \n",
            "Epoch: 14 | Loss: 0.0195 | Training accuracy: 99.811% | Test accuracy: 99.038%  \n",
            "Epoch: 15 | Loss: 0.0189 | Training accuracy: 99.682% | Test accuracy: 99.210%  \n",
            "Epoch: 16 | Loss: 0.0226 | Training accuracy: 99.871% | Test accuracy: 99.381%  \n",
            "Epoch: 17 | Loss: 0.0221 | Training accuracy: 99.854% | Test accuracy: 99.381%  \n",
            "Epoch: 18 | Loss: 0.0168 | Training accuracy: 99.725% | Test accuracy: 99.347%  \n",
            "Epoch: 19 | Loss: 0.0149 | Training accuracy: 99.820% | Test accuracy: 99.210%  \n",
            "Epoch: 20 | Loss: 0.0186 | Training accuracy: 99.802% | Test accuracy: 98.866%  \n"
          ]
        }
      ]
    },
    {
      "cell_type": "code",
      "source": [
        "figure = plt.figure(figsize=(15,8))\n",
        "ax = figure.add_subplot(1,1,1)\n",
        "ax.plot(range(1,epochs+1),train_accuracies,label = \"train accuracy\")\n",
        "ax.plot(range(1,epochs+1),test_accuracies,label = \"test accuracy\")\n",
        "ax.hlines(test_accuracies[-1],xmin=0,xmax=20,colors='orange',linestyles='dashed',alpha=0.5)\n",
        "ax.hlines(train_accuracies[-1],xmin=0,xmax=20,colors='blue',linestyles='dashed',alpha=0.5)\n",
        "ax.legend()\n",
        "ax.set_title(\"Accuracies Curves\")\n",
        "ax.set_xticks(range(1,epochs+1,2))\n",
        "ax.set_xlim(left=0)\n",
        "# ax.set_yticks(np.concatenate([np.linspace(96,100,9),[train_accuracies[-1],test_accuracies[-1]]]))\n",
        "ax.set_xlabel(\"Epoch\")\n",
        "_=ax.set_ylabel(\"Accuracy (%)\")"
      ],
      "metadata": {
        "colab": {
          "base_uri": "https://localhost:8080/",
          "height": 513
        },
        "id": "JNBiiHolaQTt",
        "outputId": "1e8691d5-c1c5-4052-d72f-d1b810d7c39b"
      },
      "execution_count": 23,
      "outputs": [
        {
          "output_type": "display_data",
          "data": {
            "text/plain": [
              "<Figure size 1080x576 with 1 Axes>"
            ],
            "image/png": "[encoded data removed]"
          },
          "metadata": {
            "needs_background": "light"
          }
        }
      ]
    }
  ]
}